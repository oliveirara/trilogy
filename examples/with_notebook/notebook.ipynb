{
 "cells": [
  {
   "cell_type": "code",
   "execution_count": 1,
   "id": "7685f725-b6f0-4578-84aa-351a2dd62ab7",
   "metadata": {},
   "outputs": [],
   "source": [
    "from trilogy import trilogy\n",
    "import os"
   ]
  },
  {
   "cell_type": "markdown",
   "id": "f6499c71-a2fa-40dd-b525-0756024be239",
   "metadata": {},
   "source": [
    "# Single band image:"
   ]
  },
  {
   "cell_type": "code",
   "execution_count": 2,
   "id": "0fb5f70d-984c-4f89-a429-613c897483bc",
   "metadata": {},
   "outputs": [
    {
     "name": "stdout",
     "output_type": "stream",
     "text": [
      "From input file None :\n",
      "From input parameters:\n",
      "outname = single_band_image_example\n",
      "samplesize = 20000\n",
      "stampsize = 20000\n",
      "maxstampsize = 20000\n",
      "satpercent = 0.01\n",
      "noiselum = 3\n",
      "noisesig = 1\n",
      "noisesig0 = 0.009\n",
      "correctbias = 1\n",
      "colorsatfac = 1\n",
      "combine = sum\n",
      "deletetests = 1\n",
      "deletefilters = 1\n",
      "testfirst = 0\n",
      "noiselums = {'L': 3}\n",
      "show = 1\n",
      "showwith = PIL\n",
      "invert = False\n",
      "Default:\n",
      "indir =  (default)\n",
      "outdir =  (default)\n",
      "thumbnail = None (default)\n",
      "sampledx = 0 (default)\n",
      "sampledy = 0 (default)\n",
      "showstamps = 0 (default)\n",
      "scaling = None (default)\n",
      "legend = 0 (default)\n",
      "noise = None (default)\n",
      "saturate = None (default)\n",
      "bscale = 1 (default)\n",
      "bzero = 0 (default)\n",
      "Loading image data.\n",
      "If multiple filters per channel, adding data.\n",
      "L\n",
      "../single_band/CS82/J001424.3+004145.3_S82p4p_y.V2.7A.swarp.cut.fits[0] (1290, 1290) i.MP9702\n",
      "L = i.MP9702\n",
      "\n",
      "\n",
      "Determining image scaling based on 1290x1290 core sample\n",
      "...\n",
      "L\n",
      " 0.001127  0.062209  158.961319\n",
      "Scalings:\n",
      "L (0.0011269024940285457, 0.06220927248520611, 158.96131896972656)\n",
      "\n",
      "Making full grayscale image, one stamp (section) at a time...\n",
      "    0,     0  /  (1290 x 1290)\n"
     ]
    },
    {
     "name": "stderr",
     "output_type": "stream",
     "text": [
      "/home/renan/anaconda3/lib/python3.8/site-packages/trilogy/trilogy.py:281: RuntimeWarning: invalid value encountered in double_scalars\n",
      "  a1n = a1 ** n\n"
     ]
    },
    {
     "name": "stdout",
     "output_type": "stream",
     "text": [
      "Saving single_band_image_example.png ...\n"
     ]
    }
   ],
   "source": [
    "trilogy.Trilogy(infile=None, \\\n",
    "                images='../single_band/CS82/J001424.3+004145.3_S82p4p_y.V2.7A.swarp.cut.fits', \\\n",
    "                imagesorder='L', \\\n",
    "                outname = 'single_band_image_example',\n",
    "                samplesize = 20000,\n",
    "                stampsize = 20000,\n",
    "                maxstampsize = 20000,\n",
    "                satpercent = 0.01,\n",
    "                noiselum = 3,\n",
    "                noisesig = 1,\n",
    "                noisesig0 = 0.009,\n",
    "                correctbias = 1,\n",
    "                colorsatfac = 1,\n",
    "                combine = \"sum\",\n",
    "                deletetests = 1,\n",
    "                deletefilters = 1,\n",
    "                testfirst = 0,\n",
    "                noiselums = {'L': 3},\n",
    "                show = 1,\n",
    "                showwith = \"PIL\").run()"
   ]
  },
  {
   "cell_type": "markdown",
   "id": "07f976aa-0936-4662-b001-e55d629844ec",
   "metadata": {},
   "source": [
    "# Multiple band image:"
   ]
  },
  {
   "cell_type": "code",
   "execution_count": 3,
   "id": "dd7464d5-b04c-4dea-905e-b8874de9b216",
   "metadata": {},
   "outputs": [],
   "source": [
    "def create_dummy_file(fits_1, fits_2, fits_3):\n",
    "    fout = open('dummy_file.in', 'w')\n",
    "    fout.write('B' + \"\\n\")\n",
    "    fout.write(f'{fits_1}'  + \"\\n\")\n",
    "    fout.write(\"\\n\")\n",
    "    fout.write('G' + \"\\n\")\n",
    "    fout.write(f'{fits_2}'  + \"\\n\")\n",
    "    fout.write(\"\\n\")\n",
    "    fout.write('R' + \"\\n\")\n",
    "    fout.write(f'{fits_3}' + \"\\n\")\n",
    "    fout.write(\"\\n\")\n",
    "    fout.close()"
   ]
  },
  {
   "cell_type": "code",
   "execution_count": 4,
   "id": "9472b5d0-fe76-473f-9a8e-e2143ebcc6ee",
   "metadata": {},
   "outputs": [],
   "source": [
    "fits_1 = '../multiple_bands/HSC/J114444.8+001347.0-HSC-G-pdr3_wide.fits[1]'\n",
    "fits_2 = '../multiple_bands/HSC/J114444.8+001347.0-HSC-R-pdr3_wide.fits[1]'\n",
    "fits_3 = '../multiple_bands/HSC/J114444.8+001347.0-HSC-I-pdr3_wide.fits[1]'"
   ]
  },
  {
   "cell_type": "code",
   "execution_count": 5,
   "id": "11c3e6ff-c465-4a97-919c-6f3fe5bdc1e8",
   "metadata": {},
   "outputs": [],
   "source": [
    "create_dummy_file(fits_1, fits_2, fits_3)"
   ]
  },
  {
   "cell_type": "code",
   "execution_count": 6,
   "id": "d282ecd9-0432-4f18-9f8f-6b8b605f1497",
   "metadata": {},
   "outputs": [
    {
     "name": "stdout",
     "output_type": "stream",
     "text": [
      "From input file dummy_file.in :\n",
      "B ../multiple_bands/HSC/J114444.8+001347.0-HSC-G-pdr3_wide.fits[1]\n",
      "G ../multiple_bands/HSC/J114444.8+001347.0-HSC-R-pdr3_wide.fits[1]\n",
      "R ../multiple_bands/HSC/J114444.8+001347.0-HSC-I-pdr3_wide.fits[1]\n",
      "From input parameters:\n",
      "outname = multiple_band_image\n",
      "noiselums = {'B': 0.5, 'G': 0.5, 'R': 0.5}\n",
      "samplesize = 20000\n",
      "stampsize = 20000\n",
      "maxstampsize = 20000\n",
      "showstamps = 100\n",
      "satpercent = 0.0009\n",
      "noiselum = 0.5\n",
      "noisesig = 50\n",
      "noisesig0 = 10\n",
      "correctbias = 0\n",
      "colorsatfac = 1\n",
      "combine = average\n",
      "deletetests = 1\n",
      "deletefilters = 1\n",
      "testfirst = 0\n",
      "show = 1\n",
      "showwith = PIL\n",
      "invert = False\n",
      "Default:\n",
      "indir =  (default)\n",
      "outdir =  (default)\n",
      "thumbnail = None (default)\n",
      "sampledx = 0 (default)\n",
      "sampledy = 0 (default)\n",
      "scaling = None (default)\n",
      "legend = 0 (default)\n",
      "noise = None (default)\n",
      "saturate = None (default)\n",
      "bscale = 1 (default)\n",
      "bzero = 0 (default)\n",
      "Loading image data.\n",
      "If multiple filters per channel, adding data.\n",
      "B\n",
      "../multiple_bands/HSC/J114444.8+001347.0-HSC-G-pdr3_wide.fits[1] (1430, 1430) \n",
      "B = \n",
      "\n",
      "G\n",
      "../multiple_bands/HSC/J114444.8+001347.0-HSC-R-pdr3_wide.fits[1] (1430, 1430) \n",
      "G = \n",
      "\n",
      "R\n",
      "../multiple_bands/HSC/J114444.8+001347.0-HSC-I-pdr3_wide.fits[1] (1430, 1430) \n",
      "R = \n",
      "\n",
      "\n",
      "Determining image scaling based on 1430x1430 core sample\n",
      "...\n",
      "R\n",
      " 0.000000  3.256177  49.080219\n",
      "G\n",
      " 0.000000  2.834912  138.080139\n",
      "B\n",
      " 0.000000  1.725164  80.809090\n",
      "Scalings:\n",
      "R (0, 3.2561774958144363, 49.08021926879883)\n",
      "G (0, 2.834911723192243, 138.08013916015625)\n",
      "B (0, 1.7251635131062923, 80.80908966064453)\n",
      "\n",
      "Making full color image, one stamp (section) at a time...\n",
      "    0,     0  /  (1430 x 1430)\n",
      "Saving multiple_band_image.png ...\n"
     ]
    }
   ],
   "source": [
    "trilogy.Trilogy(infile='dummy_file.in', \\\n",
    "                imagesorder='BGR', \\\n",
    "                outname = 'multiple_band_image',\n",
    "                noiselums = {'B': 0.5, 'G': 0.5, 'R': 0.5},\n",
    "                samplesize = 20000,\n",
    "                stampsize = 20000,\n",
    "                maxstampsize = 20000,\n",
    "                showstamps = 100,\n",
    "                satpercent = 0.0009,\n",
    "                noiselum  =  0.5,\n",
    "                noisesig = 50,\n",
    "                noisesig0 = 10,\n",
    "                correctbias = 0,\n",
    "                colorsatfac = 1,\n",
    "                combine = \"average\",\n",
    "                deletetests = 1,\n",
    "                deletefilters = 1,\n",
    "                testfirst  =  0,\n",
    "                show = 1,\n",
    "                showwith = \"PIL\").run()"
   ]
  },
  {
   "cell_type": "code",
   "execution_count": null,
   "id": "e1ed1b4b-ed58-4a7b-8a16-0f9f69dcd4aa",
   "metadata": {},
   "outputs": [],
   "source": [
    "os.remove('dummy_file.in')"
   ]
  }
 ],
 "metadata": {
  "kernelspec": {
   "display_name": "Python 3 (ipykernel)",
   "language": "python",
   "name": "python3"
  },
  "language_info": {
   "codemirror_mode": {
    "name": "ipython",
    "version": 3
   },
   "file_extension": ".py",
   "mimetype": "text/x-python",
   "name": "python",
   "nbconvert_exporter": "python",
   "pygments_lexer": "ipython3",
   "version": "3.8.5"
  }
 },
 "nbformat": 4,
 "nbformat_minor": 5
}
