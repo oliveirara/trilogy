{
 "cells": [
  {
   "cell_type": "code",
   "execution_count": 1,
   "id": "7685f725-b6f0-4578-84aa-351a2dd62ab7",
   "metadata": {},
   "outputs": [],
   "source": [
    "from trilogy import trilogy\n",
    "import os"
   ]
  },
  {
   "cell_type": "markdown",
   "id": "f6499c71-a2fa-40dd-b525-0756024be239",
   "metadata": {},
   "source": [
    "# Single band image:"
   ]
  },
  {
   "cell_type": "code",
   "execution_count": 2,
   "id": "0fb5f70d-984c-4f89-a429-613c897483bc",
   "metadata": {},
   "outputs": [
    {
     "name": "stdout",
     "output_type": "stream",
     "text": [
      "From input file None :\n",
      "From input parameters:\n",
      "outname = single_band_image\n",
      "noiselum = 0.5\n",
      "noiselums = {'L': 0.5}\n",
      "satpercent = 0.1\n",
      "samplesize = 1000\n",
      "stampsize = 1000\n",
      "testfirst = 0\n",
      "show = 1\n",
      "showwith = PIL\n",
      "deletetests = 1\n",
      "combine = average\n",
      "invert = False\n",
      "Default:\n",
      "indir =  (default)\n",
      "outdir =  (default)\n",
      "colorsatfac = 1 (default)\n",
      "thumbnail = None (default)\n",
      "sampledx = 0 (default)\n",
      "sampledy = 0 (default)\n",
      "showstamps = 0 (default)\n",
      "deletefilters = 1 (default)\n",
      "scaling = None (default)\n",
      "maxstampsize = 6000 (default)\n",
      "legend = 0 (default)\n",
      "noise = None (default)\n",
      "saturate = None (default)\n",
      "bscale = 1 (default)\n",
      "bzero = 0 (default)\n",
      "correctbias = 0 (default)\n",
      "noisesig = 1 (default)\n",
      "noisesig0 = 2 (default)\n",
      "Loading image data.\n",
      "If multiple filters per channel, adding data.\n",
      "L\n",
      "J120447.2-024312.3_KiDS_DR4.0_181.5_-2.5_r_sci.fits[0] (1200, 1200) r_SDSS\n",
      "L = r_SDSS\n",
      "\n",
      "\n",
      "Determining image scaling based on 1000x1000 core sample\n",
      "...\n",
      "L\n",
      " 0.000000  0.000000  0.000000\n",
      "Scalings:\n",
      "L (0, 4.135851650553921e-12, 7.977311033968704e-10)\n",
      "\n",
      "Making full grayscale image, one stamp (section) at a time...\n",
      "    0,     0  /  (1200 x 1200)\n",
      " 1000,     0  /  (1200 x 1200)\n",
      "    0,  1000  /  (1200 x 1200)\n",
      " 1000,  1000  /  (1200 x 1200)\n",
      "Saving single_band_image.png ...\n"
     ]
    }
   ],
   "source": [
    "trilogy.Trilogy(infile=None, \\\n",
    "                images='J120447.2-024312.3_KiDS_DR4.0_181.5_-2.5_r_sci.fits', \\\n",
    "                imagesorder='L', \\\n",
    "                outname = 'single_band_image',\n",
    "                noiselum = 0.5,\n",
    "                noiselums = {'L': 0.5},\n",
    "                satpercent = 0.1,\n",
    "                samplesize = 1000,\n",
    "                stampsize = 1000,\n",
    "                testfirst = 0,\n",
    "                show = 1,\n",
    "                showwith = \"PIL\",\n",
    "                deletetests = 1,\n",
    "                # invert = True,\n",
    "                combine = \"average\",\n",
    "                ).run()"
   ]
  },
  {
   "cell_type": "markdown",
   "id": "07f976aa-0936-4662-b001-e55d629844ec",
   "metadata": {},
   "source": [
    "# Multiple band image:"
   ]
  },
  {
   "cell_type": "code",
   "execution_count": 3,
   "id": "dd7464d5-b04c-4dea-905e-b8874de9b216",
   "metadata": {},
   "outputs": [],
   "source": [
    "def create_dummy_file(fits_1, fits_2, fits_3):\n",
    "    fout = open('dummy_file.in', 'w')\n",
    "    fout.write('B' + \"\\n\")\n",
    "    fout.write(f'{fits_1}'  + \"\\n\")\n",
    "    fout.write(\"\\n\")\n",
    "    fout.write('G' + \"\\n\")\n",
    "    fout.write(f'{fits_2}'  + \"\\n\")\n",
    "    fout.write(\"\\n\")\n",
    "    fout.write('R' + \"\\n\")\n",
    "    fout.write(f'{fits_3}' + \"\\n\")\n",
    "    fout.write(\"\\n\")\n",
    "    fout.close()"
   ]
  },
  {
   "cell_type": "code",
   "execution_count": 4,
   "id": "9472b5d0-fe76-473f-9a8e-e2143ebcc6ee",
   "metadata": {},
   "outputs": [],
   "source": [
    "fits_1 = 'J120447.2-024312.3_KiDS_DR4.0_181.5_-2.5_g_sci.fits'\n",
    "fits_2 = 'J120447.2-024312.3_KiDS_DR4.0_181.5_-2.5_r_sci.fits'\n",
    "fits_3 = 'J120447.2-024312.3_KiDS_DR4.0_181.5_-2.5_i_sci.fits'"
   ]
  },
  {
   "cell_type": "code",
   "execution_count": 5,
   "id": "11c3e6ff-c465-4a97-919c-6f3fe5bdc1e8",
   "metadata": {},
   "outputs": [],
   "source": [
    "create_dummy_file(fits_1, fits_2, fits_3)"
   ]
  },
  {
   "cell_type": "code",
   "execution_count": 6,
   "id": "d282ecd9-0432-4f18-9f8f-6b8b605f1497",
   "metadata": {},
   "outputs": [
    {
     "name": "stdout",
     "output_type": "stream",
     "text": [
      "From input file dummy_file.in :\n",
      "B J120447.2-024312.3_KiDS_DR4.0_181.5_-2.5_g_sci.fits\n",
      "G J120447.2-024312.3_KiDS_DR4.0_181.5_-2.5_r_sci.fits\n",
      "R J120447.2-024312.3_KiDS_DR4.0_181.5_-2.5_i_sci.fits\n",
      "From input parameters:\n",
      "outname = multiple_band_image\n",
      "noiselums = {'B': 0.5, 'G': 0.5, 'R': 0.5}\n",
      "satpercent = 0.1\n",
      "samplesize = 1000\n",
      "stampsize = 1000\n",
      "testfirst = 0\n",
      "show = 1\n",
      "showwith = PIL\n",
      "deletetests = 1\n",
      "combine = average\n",
      "invert = False\n",
      "Default:\n",
      "indir =  (default)\n",
      "outdir =  (default)\n",
      "noiselum = 0.15 (default)\n",
      "colorsatfac = 1 (default)\n",
      "thumbnail = None (default)\n",
      "sampledx = 0 (default)\n",
      "sampledy = 0 (default)\n",
      "showstamps = 0 (default)\n",
      "deletefilters = 1 (default)\n",
      "scaling = None (default)\n",
      "maxstampsize = 6000 (default)\n",
      "legend = 0 (default)\n",
      "noise = None (default)\n",
      "saturate = None (default)\n",
      "bscale = 1 (default)\n",
      "bzero = 0 (default)\n",
      "correctbias = 0 (default)\n",
      "noisesig = 1 (default)\n",
      "noisesig0 = 2 (default)\n",
      "Loading image data.\n",
      "If multiple filters per channel, adding data.\n",
      "B\n",
      "J120447.2-024312.3_KiDS_DR4.0_181.5_-2.5_g_sci.fits[0] (1200, 1200) g_SDSS\n",
      "B = g_SDSS\n",
      "\n",
      "G\n",
      "J120447.2-024312.3_KiDS_DR4.0_181.5_-2.5_r_sci.fits[0] (1200, 1200) r_SDSS\n",
      "G = r_SDSS\n",
      "\n",
      "R\n",
      "J120447.2-024312.3_KiDS_DR4.0_181.5_-2.5_i_sci.fits[0] (1200, 1200) i_SDSS\n",
      "R = i_SDSS\n",
      "\n",
      "\n",
      "Determining image scaling based on 1000x1000 core sample\n",
      "...\n",
      "R\n",
      " 0.000000  0.000000  0.000000\n",
      "G\n",
      " 0.000000  0.000000  0.000000\n",
      "B\n",
      " 0.000000  0.000000  0.000000\n",
      "Scalings:\n",
      "R (0, 1.1103266004328244e-11, 1.180437747549945e-09)\n",
      "G (0, 4.135851650553921e-12, 7.977311033968704e-10)\n",
      "B (0, 3.0062323992891384e-12, 5.406681213848685e-10)\n",
      "\n",
      "Making full color image, one stamp (section) at a time...\n",
      "    0,     0  /  (1200 x 1200)\n",
      " 1000,     0  /  (1200 x 1200)\n",
      "    0,  1000  /  (1200 x 1200)\n",
      " 1000,  1000  /  (1200 x 1200)\n",
      "Saving multiple_band_image.png ...\n"
     ]
    }
   ],
   "source": [
    "trilogy.Trilogy(infile='dummy_file.in', \\\n",
    "                imagesorder='BGR', \\\n",
    "                outname = 'multiple_band_image',\n",
    "                noiselums = {'B': 0.5, 'G': 0.5, 'R': 0.5},\n",
    "                satpercent = 0.1,\n",
    "                samplesize = 1000,\n",
    "                stampsize = 1000,\n",
    "                testfirst = 0,\n",
    "                show = 1,\n",
    "                showwith = \"PIL\",\n",
    "                deletetests = 1,\n",
    "                # invert = True,\n",
    "                combine = \"average\",\n",
    "                ).run()"
   ]
  },
  {
   "cell_type": "code",
   "execution_count": 7,
   "id": "e1ed1b4b-ed58-4a7b-8a16-0f9f69dcd4aa",
   "metadata": {},
   "outputs": [],
   "source": [
    "os.remove('dummy_file.in')"
   ]
  }
 ],
 "metadata": {
  "kernelspec": {
   "display_name": "Python 3 (ipykernel)",
   "language": "python",
   "name": "python3"
  },
  "language_info": {
   "codemirror_mode": {
    "name": "ipython",
    "version": 3
   },
   "file_extension": ".py",
   "mimetype": "text/x-python",
   "name": "python",
   "nbconvert_exporter": "python",
   "pygments_lexer": "ipython3",
   "version": "3.8.5"
  }
 },
 "nbformat": 4,
 "nbformat_minor": 5
}
